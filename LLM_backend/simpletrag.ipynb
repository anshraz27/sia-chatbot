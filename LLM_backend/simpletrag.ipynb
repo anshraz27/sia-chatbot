{
 "cells": [
  {
   "cell_type": "code",
   "execution_count": 1,
   "id": "7644451d",
   "metadata": {},
   "outputs": [
    {
     "data": {
      "text/plain": [
       "[Document(metadata={'source': 'data/chapter_2.txt'}, page_content='Chapter 2: The Yoga of Knowledge (Sankhya Yoga)\\n\\nShloka 1:\\nArjuna, overwhelmed with grief, refuses to fight his relatives in battle\\nKey Concept: Moral dilemma and emotional turmoil\\n\\n \\n\\nShloka 2:\\nKrishna chides Arjuna for his weakness and unmanliness\\nKey Teaching: Importance of righteous duty over emotional attachments\\n\\n \\n\\nShloka 7:\\nArjuna admits his confusion and seeks Krishna\\'s guidance\\nKey Theme: Student-teacher dynamic in spiritual learning\\n\\n \\n\\nShloka 11:\\nThe eternal nature of the soul is explained\\nCore Message: Soul cannot be destroyed - it\\'s everlasting\\n\\n \\n\\nShloka 13:\\nReincarnation explained through body changes\\nAnalogy: Changing clothes doesn\\'t change the wearer\\n\\n \\n\\nShloka 14:\\nTemporary nature of sensory experiences\\nTeaching: Endure pleasure/pain like passing seasons\\n\\n \\n\\nShloka 15:\\nThe stable mind remains undisturbed\\nKey Quality: Equanimity in success/failure\\n\\n \\n\\nShloka 17:\\nIndestructible nature of the soul\\nMetaphor: Soul is the fundamental reality\\n\\n \\n\\nShloka 20:\\nSoul is birthless and deathless\\nScientific View: Energy cannot be created/destroyed\\n\\n \\n\\nShloka 22:\\nSoul changes bodies like old garments\\nPractical Advice: Don\\'t fear physical death\\n\\n \\n\\nShloka 27:\\nInevitable nature of death\\nExistential Truth: What\\'s born must die\\n\\n \\n\\nShloka 30:\\nSoul is eternal and transcendental\\nSpiritual Insight: Witness consciousness\\n\\n \\n\\nShloka 31:\\nDuty of a warrior to fight righteous war\\nEthical Framework: Dharma in action\\n\\n \\n\\nShloka 33:\\nWarning against abandoning duty\\nConsequence: Loss of honor and purpose\\n\\n \\n\\nShloka 38:\\nEquanimity in victory and defeat\\nMental Discipline: Focus on action, not results\\n\\n \\n\\nShloka 39:\\nIntroduction to Buddhi Yoga (Yoga of Intellect)\\nPath: Intelligent discernment\\n\\n \\n\\nShloka 47:\\nFamous verse on detached action\\nMaxim: \"Your right is to work only\"\\n\\n \\n\\nShloka 48:\\nYoga of equanimity explained\\nPractice: Remain balanced in success/failure\\n\\n \\n\\nShloka 49:\\nDanger of selfish desires\\nWarning: Lowly is reward-seeking work\\n\\n \\n\\nShloka 50:\\nSkill in action through detachment\\nOutcome: Freedom from karma\\n\\n \\n\\nShloka 53:\\nSteady intellect described\\nSign: Unmoved by conflicting thoughts\\n\\n \\n\\nShloka 55:\\nCharacteristics of enlightened person\\nTraits: Free from cravings and attachments\\n\\n \\n\\nShloka 56:\\nSaintly perfection defined\\nState: Untroubled by adversity\\n\\n \\n\\nShloka 59:\\nControl of senses through discipline\\nAnalogy: Tortoise withdrawing limbs\\n\\n \\n\\nShloka 62:\\nDanger chain: Senses > Attachment > Desire > Anger\\nPsychological Insight: Downward spiral\\n\\n \\n\\nShloka 63:\\nAnger leads to spiritual destruction\\nConsequence: Loss of discrimination\\n\\n \\n\\nShloka 64:\\nMastery over senses through moderation\\nKey: Balanced engagement\\n\\n \\n\\nShloka 66:\\nPeace through right understanding\\nPrerequisite: Divine connection\\n\\n \\n\\nShloka 67:\\nMind like storm-driven ship\\nWarning: Uncontrolled senses\\n\\n \\n\\nShloka 70:\\nOcean metaphor for tranquility\\nImage: Unmoved by desires\\n\\n \\n\\nShloka 71:\\nState of desireless freedom\\nLiberation: No more worldly cravings')]"
      ]
     },
     "execution_count": 1,
     "metadata": {},
     "output_type": "execute_result"
    }
   ],
   "source": [
    "# Data Ingestion\n",
    "from langchain_community.document_loaders import TextLoader\n",
    "loader=TextLoader(\"data/chapter_2.txt\")\n",
    "document=loader.load()\n",
    "document"
   ]
  },
  {
   "cell_type": "code",
   "execution_count": 2,
   "id": "bb9ccc50",
   "metadata": {},
   "outputs": [],
   "source": [
    "from langchain.text_splitter import RecursiveCharacterTextSplitter\n",
    "textSplitter = RecursiveCharacterTextSplitter(\n",
    "    chunk_size=500, chunk_overlap=100\n",
    ")\n",
    "document = textSplitter.split_documents(document)"
   ]
  },
  {
   "cell_type": "code",
   "execution_count": 3,
   "id": "a2211d8c",
   "metadata": {},
   "outputs": [
    {
     "name": "stderr",
     "output_type": "stream",
     "text": [
      "C:\\Users\\adity\\AppData\\Local\\Temp\\ipykernel_10924\\4224101563.py:5: LangChainDeprecationWarning: The class `OllamaEmbeddings` was deprecated in LangChain 0.3.1 and will be removed in 1.0.0. An updated version of the class exists in the :class:`~langchain-ollama package and should be used instead. To use it run `pip install -U :class:`~langchain-ollama` and import as `from :class:`~langchain_ollama import OllamaEmbeddings``.\n",
      "  documents=document, embedding=OllamaEmbeddings(model=\"mistral\")\n"
     ]
    }
   ],
   "source": [
    "# Embedding & Vector Store Creation\n",
    "from langchain_community.embeddings import OllamaEmbeddings\n",
    "from langchain_community.vectorstores import Chroma\n",
    "db = Chroma.from_documents(\n",
    "    documents=document, embedding=OllamaEmbeddings(model=\"mistral\")\n",
    ")"
   ]
  },
  {
   "cell_type": "code",
   "execution_count": 4,
   "id": "2ce5f2b1",
   "metadata": {},
   "outputs": [
    {
     "data": {
      "text/plain": [
       "<langchain_community.vectorstores.chroma.Chroma at 0x24358c87250>"
      ]
     },
     "execution_count": 4,
     "metadata": {},
     "output_type": "execute_result"
    }
   ],
   "source": [
    "db"
   ]
  },
  {
   "cell_type": "code",
   "execution_count": 5,
   "id": "f0c12886",
   "metadata": {},
   "outputs": [
    {
     "data": {
      "text/plain": [
       "\"Shloka 27:\\nInevitable nature of death\\nExistential Truth: What's born must die\\n\\n \\n\\nShloka 30:\\nSoul is eternal and transcendental\\nSpiritual Insight: Witness consciousness\\n\\n \\n\\nShloka 31:\\nDuty of a warrior to fight righteous war\\nEthical Framework: Dharma in action\\n\\n \\n\\nShloka 33:\\nWarning against abandoning duty\\nConsequence: Loss of honor and purpose\\n\\n \\n\\nShloka 38:\\nEquanimity in victory and defeat\\nMental Discipline: Focus on action, not results\""
      ]
     },
     "execution_count": 5,
     "metadata": {},
     "output_type": "execute_result"
    }
   ],
   "source": [
    "# Vector db  query\n",
    "query=\"What is the main teaching of chapter 2 of geeta?\"\n",
    "result = db.similarity_search(query)\n",
    "result[0].page_content"
   ]
  },
  {
   "cell_type": "code",
   "execution_count": 6,
   "id": "ea86e577",
   "metadata": {},
   "outputs": [
    {
     "name": "stderr",
     "output_type": "stream",
     "text": [
      "C:\\Users\\adity\\AppData\\Local\\Temp\\ipykernel_10924\\863618470.py:3: LangChainDeprecationWarning: The class `Ollama` was deprecated in LangChain 0.3.1 and will be removed in 1.0.0. An updated version of the class exists in the :class:`~langchain-ollama package and should be used instead. To use it run `pip install -U :class:`~langchain-ollama` and import as `from :class:`~langchain_ollama import OllamaLLM``.\n",
      "  llm = Ollama(model=\"mistral\")\n"
     ]
    },
    {
     "data": {
      "text/plain": [
       "Ollama(model='mistral')"
      ]
     },
     "execution_count": 6,
     "metadata": {},
     "output_type": "execute_result"
    }
   ],
   "source": [
    "# Set up LLM\n",
    "from langchain_community.llms import Ollama\n",
    "llm = Ollama(model=\"mistral\")\n",
    "llm"
   ]
  },
  {
   "cell_type": "code",
   "execution_count": 7,
   "id": "80ed6baf",
   "metadata": {},
   "outputs": [],
   "source": [
    "# Prompting\n",
    "from langchain_core.prompts import ChatPromptTemplate\n",
    "prompt = ChatPromptTemplate.from_template(\n",
    "    \"\"\"Answer the question based on the context: {context}\n",
    "    Question: {input}\"\"\"\n",
    ")"
   ]
  },
  {
   "cell_type": "code",
   "execution_count": 8,
   "id": "ae47ff50",
   "metadata": {},
   "outputs": [],
   "source": [
    "# Chain Creation\n",
    "# llm -- prompt\n",
    "\n",
    "from langchain.chains.combine_documents import create_stuff_documents_chain\n",
    "chain=create_stuff_documents_chain(llm=llm, prompt=prompt)"
   ]
  },
  {
   "cell_type": "code",
   "execution_count": 9,
   "id": "20ea41a7",
   "metadata": {},
   "outputs": [
    {
     "data": {
      "text/plain": [
       "VectorStoreRetriever(tags=['Chroma', 'OllamaEmbeddings'], vectorstore=<langchain_community.vectorstores.chroma.Chroma object at 0x0000024358C87250>, search_kwargs={})"
      ]
     },
     "execution_count": 9,
     "metadata": {},
     "output_type": "execute_result"
    }
   ],
   "source": [
    "# Retriever Creation\n",
    "# Retriever -- Vector Store\n",
    "\n",
    "retriever = db.as_retriever()\n",
    "retriever"
   ]
  },
  {
   "cell_type": "code",
   "execution_count": 10,
   "id": "38c9eb6b",
   "metadata": {},
   "outputs": [],
   "source": [
    "# Retriever Chain Creation\n",
    "\"\"\"\n",
    "       Vector Store\n",
    "            |\n",
    "User -> Retriever -> LLM -- Prompt\n",
    "\"\"\"\n",
    "from langchain.chains import create_retrieval_chain\n",
    "retrieval_chain = create_retrieval_chain(\n",
    "    retriever, chain\n",
    ")"
   ]
  },
  {
   "cell_type": "code",
   "execution_count": 14,
   "id": "eb03f45c",
   "metadata": {},
   "outputs": [],
   "source": [
    "response = retrieval_chain.invoke({\"input\":\"Summarize Krishna’s 3 key arguments to convince Arjuna to fight\"})"
   ]
  },
  {
   "cell_type": "code",
   "execution_count": 15,
   "id": "9ebd675b",
   "metadata": {},
   "outputs": [
    {
     "data": {
      "text/plain": [
       "\" Krishna's three key arguments to convince Arjuna to fight, as expressed in the Bhagavad Gita, are as follows:\\n\\n1. The Soul is Eternal and Indestructible (Shlokas 11, 20, 30): Krishna explains that the soul is eternal, birthless, deathless, and transcendental. It cannot be destroyed or harmed. This spiritual insight serves as a reminder that the actions of war are happening on a physical level, while the soul remains unaffected by such temporary events.\\n\\n2. Duty and Honor (Shlokas 31, 33): Krishna emphasizes that it is a warrior's duty to fight in righteous wars and uphold dharma (ethics). Abandoning this duty results in the loss of honor, purpose, and self-respect.\\n\\n3. Equanimity and Mental Discipline (Shlokas 15, 38): Krishna teaches Arjuna to maintain equanimity in victory and defeat by focusing on action rather than results. He urges him to endure pleasure and pain like passing seasons, while remaining detached and unattached to worldly desires and outcomes. By doing so, one can attain peace through right understanding and achieve a state of desireless freedom.\""
      ]
     },
     "execution_count": 15,
     "metadata": {},
     "output_type": "execute_result"
    }
   ],
   "source": [
    "response['answer']"
   ]
  },
  {
   "cell_type": "code",
   "execution_count": null,
   "id": "27626940",
   "metadata": {},
   "outputs": [],
   "source": []
  }
 ],
 "metadata": {
  "kernelspec": {
   "display_name": "venv",
   "language": "python",
   "name": "python3"
  },
  "language_info": {
   "codemirror_mode": {
    "name": "ipython",
    "version": 3
   },
   "file_extension": ".py",
   "mimetype": "text/x-python",
   "name": "python",
   "nbconvert_exporter": "python",
   "pygments_lexer": "ipython3",
   "version": "3.11.4"
  }
 },
 "nbformat": 4,
 "nbformat_minor": 5
}
